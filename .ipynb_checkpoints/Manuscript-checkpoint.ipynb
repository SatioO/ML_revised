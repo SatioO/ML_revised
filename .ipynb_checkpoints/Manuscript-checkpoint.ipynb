{
 "cells": [
  {
   "cell_type": "code",
   "execution_count": 11,
   "metadata": {},
   "outputs": [],
   "source": [
    "from simple_idml import idml\n",
    "import xml.etree.ElementTree as ET"
   ]
  },
  {
   "cell_type": "code",
   "execution_count": 12,
   "metadata": {},
   "outputs": [],
   "source": [
    "idml = idml.IDMLPackage(\"../IDMLlib/tests/assets/selling_secret.idml\")"
   ]
  },
  {
   "cell_type": "code",
   "execution_count": 15,
   "metadata": {},
   "outputs": [
    {
     "ename": "FileNotFoundError",
     "evalue": "[Errno 2] No such file or directory: '../IDMLlib/tests/assets/Spreads/Spread_u115.xml'",
     "output_type": "error",
     "traceback": [
      "\u001b[0;31m---------------------------------------------------------------------------\u001b[0m",
      "\u001b[0;31mFileNotFoundError\u001b[0m                         Traceback (most recent call last)",
      "\u001b[0;32m<ipython-input-15-7680ee1b1af2>\u001b[0m in \u001b[0;36m<module>\u001b[0;34m()\u001b[0m\n\u001b[0;32m----> 1\u001b[0;31m \u001b[0mtree\u001b[0m \u001b[0;34m=\u001b[0m \u001b[0mET\u001b[0m\u001b[0;34m.\u001b[0m\u001b[0mparse\u001b[0m\u001b[0;34m(\u001b[0m\u001b[0;34m'../IDMLlib/tests/assets/'\u001b[0m \u001b[0;34m+\u001b[0m \u001b[0midml\u001b[0m\u001b[0;34m.\u001b[0m\u001b[0mspreads\u001b[0m\u001b[0;34m[\u001b[0m\u001b[0;36m0\u001b[0m\u001b[0;34m]\u001b[0m\u001b[0;34m)\u001b[0m\u001b[0;34m\u001b[0m\u001b[0m\n\u001b[0m\u001b[1;32m      2\u001b[0m \u001b[0mprint\u001b[0m\u001b[0;34m(\u001b[0m\u001b[0mET\u001b[0m\u001b[0;34m.\u001b[0m\u001b[0mtostring\u001b[0m\u001b[0;34m(\u001b[0m\u001b[0mtree\u001b[0m\u001b[0;34m.\u001b[0m\u001b[0mgetroot\u001b[0m\u001b[0;34m(\u001b[0m\u001b[0;34m)\u001b[0m\u001b[0;34m,\u001b[0m \u001b[0mencoding\u001b[0m\u001b[0;34m=\u001b[0m\u001b[0;34m'utf8'\u001b[0m\u001b[0;34m)\u001b[0m\u001b[0;34m.\u001b[0m\u001b[0mdecode\u001b[0m\u001b[0;34m(\u001b[0m\u001b[0;34m'utf8'\u001b[0m\u001b[0;34m)\u001b[0m\u001b[0;34m)\u001b[0m\u001b[0;34m\u001b[0m\u001b[0m\n",
      "\u001b[0;32m/usr/local/Cellar/python/3.6.5_1/Frameworks/Python.framework/Versions/3.6/lib/python3.6/xml/etree/ElementTree.py\u001b[0m in \u001b[0;36mparse\u001b[0;34m(source, parser)\u001b[0m\n\u001b[1;32m   1194\u001b[0m     \"\"\"\n\u001b[1;32m   1195\u001b[0m     \u001b[0mtree\u001b[0m \u001b[0;34m=\u001b[0m \u001b[0mElementTree\u001b[0m\u001b[0;34m(\u001b[0m\u001b[0;34m)\u001b[0m\u001b[0;34m\u001b[0m\u001b[0m\n\u001b[0;32m-> 1196\u001b[0;31m     \u001b[0mtree\u001b[0m\u001b[0;34m.\u001b[0m\u001b[0mparse\u001b[0m\u001b[0;34m(\u001b[0m\u001b[0msource\u001b[0m\u001b[0;34m,\u001b[0m \u001b[0mparser\u001b[0m\u001b[0;34m)\u001b[0m\u001b[0;34m\u001b[0m\u001b[0m\n\u001b[0m\u001b[1;32m   1197\u001b[0m     \u001b[0;32mreturn\u001b[0m \u001b[0mtree\u001b[0m\u001b[0;34m\u001b[0m\u001b[0m\n\u001b[1;32m   1198\u001b[0m \u001b[0;34m\u001b[0m\u001b[0m\n",
      "\u001b[0;32m/usr/local/Cellar/python/3.6.5_1/Frameworks/Python.framework/Versions/3.6/lib/python3.6/xml/etree/ElementTree.py\u001b[0m in \u001b[0;36mparse\u001b[0;34m(self, source, parser)\u001b[0m\n\u001b[1;32m    584\u001b[0m         \u001b[0mclose_source\u001b[0m \u001b[0;34m=\u001b[0m \u001b[0;32mFalse\u001b[0m\u001b[0;34m\u001b[0m\u001b[0m\n\u001b[1;32m    585\u001b[0m         \u001b[0;32mif\u001b[0m \u001b[0;32mnot\u001b[0m \u001b[0mhasattr\u001b[0m\u001b[0;34m(\u001b[0m\u001b[0msource\u001b[0m\u001b[0;34m,\u001b[0m \u001b[0;34m\"read\"\u001b[0m\u001b[0;34m)\u001b[0m\u001b[0;34m:\u001b[0m\u001b[0;34m\u001b[0m\u001b[0m\n\u001b[0;32m--> 586\u001b[0;31m             \u001b[0msource\u001b[0m \u001b[0;34m=\u001b[0m \u001b[0mopen\u001b[0m\u001b[0;34m(\u001b[0m\u001b[0msource\u001b[0m\u001b[0;34m,\u001b[0m \u001b[0;34m\"rb\"\u001b[0m\u001b[0;34m)\u001b[0m\u001b[0;34m\u001b[0m\u001b[0m\n\u001b[0m\u001b[1;32m    587\u001b[0m             \u001b[0mclose_source\u001b[0m \u001b[0;34m=\u001b[0m \u001b[0;32mTrue\u001b[0m\u001b[0;34m\u001b[0m\u001b[0m\n\u001b[1;32m    588\u001b[0m         \u001b[0;32mtry\u001b[0m\u001b[0;34m:\u001b[0m\u001b[0;34m\u001b[0m\u001b[0m\n",
      "\u001b[0;31mFileNotFoundError\u001b[0m: [Errno 2] No such file or directory: '../IDMLlib/tests/assets/Spreads/Spread_u115.xml'"
     ]
    }
   ],
   "source": [
    "tree = ET.parse('../IDMLlib/tests/assets/' + idml.spreads[0])\n",
    "print(ET.tostring(tree.getroot(), encoding='utf8').decode('utf8'))"
   ]
  },
  {
   "cell_type": "code",
   "execution_count": 17,
   "metadata": {},
   "outputs": [
    {
     "name": "stdout",
     "output_type": "stream",
     "text": [
      "<?xml version='1.0' encoding='utf8'?>\n",
      "<ns0:Story xmlns:ns0=\"http://ns.adobe.com/AdobeInDesign/idml/1.0/packaging\" DOMVersion=\"14.0\">\n",
      "\t<Story AppliedNamedGrid=\"n\" AppliedTOCStyle=\"n\" IsEndnoteStory=\"false\" Self=\"u19d7\" StoryTitle=\"$ID/\" TrackChanges=\"false\" UserText=\"true\">\n",
      "\t\t<StoryPreference FrameType=\"TextFrameType\" OpticalMarginAlignment=\"false\" OpticalMarginSize=\"12\" StoryDirection=\"LeftToRightDirection\" StoryOrientation=\"Horizontal\" />\n",
      "\t\t<InCopyExportOption IncludeAllResources=\"false\" IncludeGraphicProxies=\"true\" />\n",
      "\t\t<ParagraphStyleRange AppliedParagraphStyle=\"ParagraphStyle/$ID/[No paragraph style]\" Justification=\"CenterAlign\" SpaceAfter=\"8\">\n",
      "\t\t\t<Properties>\n",
      "\t\t\t\t<Mojikumi type=\"enumeration\">Nothing</Mojikumi>\n",
      "\t\t\t\t<KinsokuSet type=\"enumeration\">Nothing</KinsokuSet>\n",
      "\t\t\t</Properties>\n",
      "\t\t\t<CharacterStyleRange AppliedCharacterStyle=\"CharacterStyle/$ID/[No character style]\" FillColor=\"Color/Word_R0_G0_B0\" FontStyle=\"Italic\" KerningMethod=\"$ID/Optical\" PointSize=\"16\">\n",
      "\t\t\t\t<Properties>\n",
      "\t\t\t\t\t<AppliedFont type=\"string\">ITC New Baskerville Std</AppliedFont>\n",
      "\t\t\t\t</Properties>\n",
      "\t\t\t\t<Content>How to Sell Your Home for the Most Money  ",
      "in the Least Amount of Time</Content>\n",
      "\t\t\t</CharacterStyleRange>\n",
      "\t\t\t<CharacterStyleRange AppliedCharacterStyle=\"CharacterStyle/$ID/[No character style]\" FillColor=\"Color/Word_R0_G0_B0\" FontStyle=\"Italic\" KerningMethod=\"$ID/Optical\" PointSize=\"20\">\n",
      "\t\t\t\t<Properties>\n",
      "\t\t\t\t\t<AppliedFont type=\"string\">ITC New Baskerville Std</AppliedFont>\n",
      "\t\t\t\t</Properties>\n",
      "\t\t\t\t<Content> </Content>\n",
      "\t\t\t</CharacterStyleRange>\n",
      "\t\t</ParagraphStyleRange>\n",
      "\t</Story>\n",
      "</ns0:Story>\n"
     ]
    }
   ],
   "source": [
    "tree = ET.parse(idml.stories[-1])\n",
    "print(ET.tostring(tree.getroot(), encoding='utf8').decode('utf8'))"
   ]
  },
  {
   "cell_type": "code",
   "execution_count": 4,
   "metadata": {},
   "outputs": [
    {
     "name": "stdout",
     "output_type": "stream",
     "text": [
      "<p style='text-align: center'><span style='font-weight: normal;font-size: 9pt;'></span><span style='font-weight: normal;font-size: 9pt;'></span><span style='font-weight: normal;font-size: 9pt;'></span><span style='font-weight: normal;font-size: 9pt;'></span><span style='font-weight: normal;font-size: 22pt;'>Book Title</span><span style='font-weight: bold;font-size: 16pt;'>Provided By ",
      "Author Name</span><br /><span style='font-weight: bold;font-size: 16pt;'>•  •  •</span></p>\n"
     ]
    }
   ],
   "source": [
    "def get_alignment(args): \n",
    "    switcher = { \n",
    "        \"CenterAlign\": \"text-align: center\", \n",
    "        \"RightAlign\": \"text-align: right\", \n",
    "        \"LeftAlign\": \"text-align: left\", \n",
    "    } \n",
    "  \n",
    "    return switcher.get(args, switcher[\"LeftAlign\"]) \n",
    "\n",
    "def get_font_weight(args):\n",
    "    switcher = { \n",
    "        \"Bold\": \"font-weight: bold\", \n",
    "        \"Italics\": \"font-weight: italics\", \n",
    "        \"Normal\": \"font-weight: normal\", \n",
    "    }\n",
    "  \n",
    "    return switcher.get(args, switcher[\"Normal\"]) \n",
    "\n",
    "def get_font_size(args):\n",
    "    return \"font-size: \" + args + \"pt\" if args else \"font-size: 8pt\"\n",
    "\n",
    "\n",
    "# Parent styles\n",
    "\n",
    "finalChild = \"\"\n",
    "for story in idml.stories[:-1]:\n",
    "    tree = ET.parse(story)\n",
    "    root = tree.getroot()\n",
    "    strContent = ''\n",
    "    \n",
    "    paragraphStyleRanges = root.iter(\"ParagraphStyleRange\")\n",
    "    \n",
    "    for paragraphStyleRange in paragraphStyleRanges:\n",
    "        parentStyle = \"\"\n",
    "        alignment = paragraphStyleRange.attrib.get(\"Justification\")\n",
    "        alignment = get_alignment(alignment)\n",
    "        parentStyle += \"<p style='\" + alignment + \"'>\"\n",
    "        \n",
    "        # Parent styles\n",
    "        characterStyleRanges = paragraphStyleRange.iter('CharacterStyleRange')\n",
    "        childStyle = \"\"\n",
    "        for characterStyleRange in characterStyleRanges:\n",
    "            fontStyle = characterStyleRange.attrib.get(\"FontStyle\")\n",
    "            fontStyle = get_font_weight(fontStyle)\n",
    "            \n",
    "            fontSize = characterStyleRange.attrib.get(\"PointSize\")\n",
    "            fontSize = get_font_size(fontSize)\n",
    "            \n",
    "            childrens = [i for i in characterStyleRange.iter()]\n",
    "            \n",
    "            for child in childrens:\n",
    "                if child.tag == \"Content\":\n",
    "                    childStyle += \"<span style='\" + fontStyle + \";\"\n",
    "                    childStyle += fontSize + \";\" if fontSize else \"\"\n",
    "                    childStyle += \"'>\" + child.text if child.text else \"'>\" \n",
    "                    childStyle += \"</span>\"\n",
    "                \n",
    "                if child.tag == \"Br\":\n",
    "                    childStyle += \"<br />\"\n",
    "                    \n",
    "    finalChild += childStyle\n",
    "                                 \n",
    "strContent += parentStyle + finalChild + \"</p>\"\n",
    "\n",
    "print(strContent)"
   ]
  },
  {
   "cell_type": "code",
   "execution_count": null,
   "metadata": {},
   "outputs": [],
   "source": []
  },
  {
   "cell_type": "code",
   "execution_count": null,
   "metadata": {},
   "outputs": [],
   "source": []
  }
 ],
 "metadata": {
  "kernelspec": {
   "display_name": "Python 3",
   "language": "python",
   "name": "python3"
  },
  "language_info": {
   "codemirror_mode": {
    "name": "ipython",
    "version": 3
   },
   "file_extension": ".py",
   "mimetype": "text/x-python",
   "name": "python",
   "nbconvert_exporter": "python",
   "pygments_lexer": "ipython3",
   "version": "3.6.5"
  }
 },
 "nbformat": 4,
 "nbformat_minor": 2
}
