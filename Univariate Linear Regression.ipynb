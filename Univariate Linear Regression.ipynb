{
 "cells": [
  {
   "cell_type": "code",
   "execution_count": 457,
   "metadata": {},
   "outputs": [],
   "source": [
    "# import required libraries\n",
    "import pandas as pd\n",
    "import numpy as np\n",
    "import matplotlib.pyplot as plt"
   ]
  },
  {
   "cell_type": "code",
   "execution_count": 458,
   "metadata": {},
   "outputs": [],
   "source": [
    "# create dummy dataset\n",
    "train = np.array([[1,1], [2,2], [3,3]])\n",
    "test = np.array([[4,4], [5,5], [6,6]])"
   ]
  },
  {
   "cell_type": "code",
   "execution_count": 459,
   "metadata": {},
   "outputs": [],
   "source": [
    "# split dataset\n",
    "train_X = train[:, 0]\n",
    "train_y = train[:, 1]"
   ]
  },
  {
   "cell_type": "code",
   "execution_count": 460,
   "metadata": {},
   "outputs": [],
   "source": [
    "data_size = train.shape[0]\n",
    "feature_size = 1"
   ]
  },
  {
   "cell_type": "code",
   "execution_count": 461,
   "metadata": {},
   "outputs": [],
   "source": [
    "# adding bias term (data_size, features + 1)\n",
    "train_X_padded = np.column_stack((np.ones((data_size, 1)), train_X))"
   ]
  },
  {
   "cell_type": "code",
   "execution_count": 462,
   "metadata": {},
   "outputs": [],
   "source": [
    "# initialize parameters (features + 1, 1)\n",
    "theta = np.zeros((train_X_padded.shape[1], 1))"
   ]
  },
  {
   "cell_type": "code",
   "execution_count": 463,
   "metadata": {},
   "outputs": [],
   "source": [
    "class LinearRegression:\n",
    "    def __init__(self, alpha = 0.01, n_iters = 5000):\n",
    "        self.alpha = alpha\n",
    "        self.n_iters = n_iters\n",
    "        \n",
    "    def fit(self, x, y, theta):\n",
    "        for i in range(self.n_iters):\n",
    "            # hypothesis function (linear)\n",
    "            h = np.dot(x, theta)\n",
    "            y = np.reshape(y, (y.shape[0], 1))\n",
    "            # cost function\n",
    "            J = 1./(2 * data_size) * np.sum(np.power((h - y),2))\n",
    "            # gradient descent\n",
    "            theta = theta - self.alpha * ((1./data_size) * np.dot(x.T, h - y))\n",
    "            \n",
    "        return theta\n",
    "    \n",
    "    def predict(self):\n",
    "        pass"
   ]
  },
  {
   "cell_type": "code",
   "execution_count": 464,
   "metadata": {},
   "outputs": [],
   "source": [
    "lr = LinearRegression(0.01)"
   ]
  },
  {
   "cell_type": "code",
   "execution_count": 466,
   "metadata": {},
   "outputs": [],
   "source": [
    "theta = lr.fit(train_X_padded, train_y, theta)"
   ]
  },
  {
   "cell_type": "code",
   "execution_count": 468,
   "metadata": {},
   "outputs": [
    {
     "data": {
      "image/png": "[encoded data removed]",
      "text/plain": [
       "<Figure size 432x288 with 1 Axes>"
      ]
     },
     "metadata": {},
     "output_type": "display_data"
    }
   ],
   "source": [
    "plt.scatter(train_X, train_y, marker=\"x\")\n",
    "plt.plot(np.dot(train_X_padded, theta), train_y)\n",
    "plt.show()"
   ]
  },
  {
   "cell_type": "code",
   "execution_count": 470,
   "metadata": {},
   "outputs": [
    {
     "data": {
      "text/plain": [
       "array([[1.00050488],\n",
       "       [2.00010835],\n",
       "       [2.99971181]])"
      ]
     },
     "execution_count": 470,
     "metadata": {},
     "output_type": "execute_result"
    }
   ],
   "source": [
    "np.dot(train_X_padded, theta)"
   ]
  },
  {
   "cell_type": "code",
   "execution_count": null,
   "metadata": {},
   "outputs": [],
   "source": []
  },
  {
   "cell_type": "code",
   "execution_count": null,
   "metadata": {},
   "outputs": [],
   "source": []
  }
 ],
 "metadata": {
  "kernelspec": {
   "display_name": "Python 3",
   "language": "python",
   "name": "python3"
  },
  "language_info": {
   "codemirror_mode": {
    "name": "ipython",
    "version": 3
   },
   "file_extension": ".py",
   "mimetype": "text/x-python",
   "name": "python",
   "nbconvert_exporter": "python",
   "pygments_lexer": "ipython3",
   "version": "3.6.5"
  }
 },
 "nbformat": 4,
 "nbformat_minor": 2
}
